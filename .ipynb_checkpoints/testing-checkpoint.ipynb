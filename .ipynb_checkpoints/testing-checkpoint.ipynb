{
 "cells": [
  {
   "cell_type": "code",
   "execution_count": 1,
   "id": "d2044f77-2b7d-4918-bd9a-593d8dad9c72",
   "metadata": {},
   "outputs": [],
   "source": [
    "# job_scraper.py\n",
    "\n",
    "import requests\n",
    "from bs4 import BeautifulSoup\n",
    "\n",
    "def scrape_indeed_jobs(role=\"Data Analyst\", location=\"Bangalore\", limit=3):\n",
    "    query = role.replace(\" \", \"+\")\n",
    "    loc = location.replace(\" \", \"+\")\n",
    "    url = f\"https://in.indeed.com/jobs?q={query}&l={loc}\"\n",
    "    \n",
    "    headers = {\n",
    "        \"User-Agent\": \"Mozilla/5.0\"\n",
    "    }\n",
    "\n",
    "    response = requests.get(url, headers=headers)\n",
    "    soup = BeautifulSoup(response.text, \"html.parser\")\n",
    "    \n",
    "    jobs = []\n",
    "    for card in soup.select(\"a.tapItem\")[:limit]:\n",
    "        title = card.find(\"h2\", class_=\"jobTitle\").text.strip()\n",
    "        company = card.find(\"span\", class_=\"companyName\").text.strip()\n",
    "        link = \"https://in.indeed.com\" + card[\"href\"]\n",
    "\n",
    "        jobs.append({\n",
    "            \"title\": title,\n",
    "            \"company\": company,\n",
    "            \"link\": link\n",
    "        })\n",
    "\n",
    "    return jobs\n",
    "\n",
    "# Demo run\n",
    "if __name__ == \"__main__\":\n",
    "    job_list = scrape_indeed_jobs()\n",
    "    for job in job_list:\n",
    "        print(f\"{job['title']} at {job['company']}\")\n",
    "        print(f\"Apply: {job['link']}\\n\")\n"
   ]
  },
  {
   "cell_type": "code",
   "execution_count": null,
   "id": "caf5065e-82ab-4d58-99b6-a4961b1583eb",
   "metadata": {},
   "outputs": [],
   "source": []
  }
 ],
 "metadata": {
  "kernelspec": {
   "display_name": "Python 3 (ipykernel)",
   "language": "python",
   "name": "python3"
  },
  "language_info": {
   "codemirror_mode": {
    "name": "ipython",
    "version": 3
   },
   "file_extension": ".py",
   "mimetype": "text/x-python",
   "name": "python",
   "nbconvert_exporter": "python",
   "pygments_lexer": "ipython3",
   "version": "3.13.5"
  }
 },
 "nbformat": 4,
 "nbformat_minor": 5
}
